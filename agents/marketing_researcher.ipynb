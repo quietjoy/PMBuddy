{
  "cells": [
    {
      "cell_type": "code",
      "execution_count": null,
      "id": "FMBNLbWJvKRR",
      "metadata": {
        "id": "FMBNLbWJvKRR"
      },
      "outputs": [],
      "source": [
        "my_sites = [\n",
        "    'https://aetrust.com',\n",
        "]\n",
        "\n",
        "their_sites = [\n",
        "    'https://inspirafinancial.com/about/about-inspira',\n",
        "    'https://www.trustetc.com/'\n",
        "]\n",
        "\n",
        "industry_specific_sites = [\n",
        "   \n",
        "]"
      ]
    },
    {
      "cell_type": "code",
      "execution_count": null,
      "id": "PTuDW_bXvMlg",
      "metadata": {
        "id": "PTuDW_bXvMlg"
      },
      "outputs": [],
      "source": [
        "# TABS\n",
        "\n",
        "# MVP: Produce a detail report on the competitors business including\n",
        "# - Features\n",
        "# - Pricing\n",
        "# - People\n",
        "# - Marketing Efforts\n",
        "# - Updates\n",
        "\n",
        "# Features\n",
        "# Go through my sites and compile a list of the features with a brief description of each\n",
        "# Go through their sites and compile a list of the features with a brief description of each\n",
        "# Compare the two lists and see what features are missing from my sites\n",
        "\n",
        "# Pricing\n",
        "# Go through my sites and compile a list of the pricing with a brief description of each\n",
        "# Go through their sites and compile a list of the pricing with a brief description of each\n",
        "# Compare the two lists and see what pricing is missing from my sites\n",
        "\n",
        "# Marketing Efforts\n",
        "# Go through my sites and compile a list of the marketing efforts with a brief description of each\n",
        "# Go through their sites and compile a list of the marketing efforts with a brief description of each\n",
        "# Compare the two lists and see what marketing efforts are missing from my sites\n",
        "\n",
        "# People\n",
        "# Crawl search and sites and compile a list of people and their roles\n",
        "# Only include people on the list if you are pretty confident that they still work there\n",
        "\n",
        "# Updates\n",
        "# Crawl my competitors sites and archive it\n",
        "# Be able to crawl again and detect new pages or things that have changed\n",
        "# Use AI to describe those changes and if they are important\n",
        "# Crawl through search, social media and industry specific sites and find recent refecences to the company and the people and summerize them\n"
      ]
    },
    {
      "cell_type": "markdown",
      "id": "404edbe6",
      "metadata": {},
      "source": []
    },
    {
      "cell_type": "code",
      "execution_count": null,
      "id": "bf4a2f41",
      "metadata": {},
      "outputs": [],
      "source": []
    }
  ],
  "metadata": {
    "colab": {
      "provenance": []
    },
    "kernelspec": {
      "display_name": "Python 3",
      "name": "python3"
    },
    "language_info": {
      "name": "python"
    }
  },
  "nbformat": 4,
  "nbformat_minor": 5
}
