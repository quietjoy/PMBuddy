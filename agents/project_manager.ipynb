{
 "cells": [
  {
   "cell_type": "code",
   "execution_count": null,
   "id": "f92507c1",
   "metadata": {
    "vscode": {
     "languageId": "plaintext"
    }
   },
   "outputs": [],
   "source": [
    "# Project Manager\n",
    "\n",
    "# MVP\n",
    "# 1. Receives key features from marketing Lead\n",
    "# 2. Understands how those features are implemented in our code base\n",
    "# 3. Receives bug reports from the QA engineer\n",
    "# 4. Writes github issues for bugs and features"
   ]
  }
 ],
 "metadata": {
  "language_info": {
   "name": "python"
  }
 },
 "nbformat": 4,
 "nbformat_minor": 5
}
