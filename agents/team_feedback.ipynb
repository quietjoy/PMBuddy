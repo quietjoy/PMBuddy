{
 "cells": [
  {
   "cell_type": "code",
   "execution_count": null,
   "id": "4e4c9b43",
   "metadata": {},
   "outputs": [],
   "source": [
    "# Team Feedback\n",
    "\n",
    "# MVP\n",
    "# - Simple recording interface. Allows me to record feedback for each developer\n",
    "# - Transcribe feedback for each developer\n",
    "# - Compile a larger feedback into feedback for individual developers\n",
    "# - Grade feedback according to some ruberick\n"
   ]
  },
  {
   "cell_type": "code",
   "execution_count": 3,
   "id": "5cd1ab01",
   "metadata": {},
   "outputs": [
    {
     "name": "stdout",
     "output_type": "stream",
     "text": [
      "* Running on local URL:  http://127.0.0.1:7860\n",
      "\n",
      "To create a public link, set `share=True` in `launch()`.\n",
      "\u001b[33m\u001b[44m\u001b[1mMaking HTTP connection to 127.0.0.1:7860\u001b[m\u001b[m                                                                          \u001b[2;1H                                                                                \u001b[3;1H                                                                                \u001b[4;1H                                                                                \u001b[5;1H                                                                                \u001b[6;1H                                                                                \u001b[7;1H                                                                                \u001b[8;1H                                                                                \u001b[9;1H                                                                                \u001b[10;1H                                                                                \u001b[11;1H                                                                                \u001b[12;1H                                                                                \u001b[13;1H                                                                                \u001b[14;1H                                                                                \u001b[15;1H                                                                                \u001b[16;1H                                                                                \u001b[17;1H                                                                                \u001b[18;1H                                                                                \u001b[19;1H                                                                                \u001b[20;1H                                                                                \u001b[21;1H                                                                                \u001b[22;1H                                                                                \u001b[23;1H                                                                                \u001b[24;1H                                                                              \u001b[4h\u001b[37m\u001b[40m \u001b[4l\u001b[H\u001b[m\u001b[m\u001b[37m\u001b[40m\u001b[m\u001b[m\u001b[21B\u001b[33m\u001b[44m\u001b[1mGetting http://127.0.0.1:7860/                                                  \u001b[22;31H\u001b[m\u001b[m\n",
      "\n",
      "\u001b[?1l\u001b>\u001b[2J\u001b[?47l\u001b8"
     ]
    },
    {
     "data": {
      "text/html": [
       "<div><iframe src=\"http://127.0.0.1:7860/\" width=\"100%\" height=\"500\" allow=\"autoplay; camera; microphone; clipboard-read; clipboard-write;\" frameborder=\"0\" allowfullscreen></iframe></div>"
      ],
      "text/plain": [
       "<IPython.core.display.HTML object>"
      ]
     },
     "metadata": {},
     "output_type": "display_data"
    },
    {
     "name": "stdout",
     "output_type": "stream",
     "text": [
      "Keyboard interruption in main thread... closing server.\n"
     ]
    },
    {
     "data": {
      "text/plain": []
     },
     "execution_count": 3,
     "metadata": {},
     "output_type": "execute_result"
    }
   ],
   "source": [
    "import gradio as gr\n",
    "import soundfile as sf\n",
    "import os\n",
    "import time\n",
    "\n",
    "def save_audio(audio):\n",
    "    if audio is None:\n",
    "        return \"No audio received.\"\n",
    "    \n",
    "    data, sample_rate = audio\n",
    "    os.makedirs(\"./data\", exist_ok=True)\n",
    "    timestamp = int(time.time())\n",
    "    filename = os.path.join(\"./data\", f\"recording_{timestamp}.wav\")\n",
    "    sf.write(filename, data, sample_rate)\n",
    "    return f\"Saved recording to: {filename}\"\n",
    "\n",
    "iface = gr.Interface(\n",
    "    fn=save_audio,\n",
    "    inputs=gr.Audio(type=\"numpy\", label=\"Record your message\"),\n",
    "    outputs=\"text\",\n",
    "    title=\"Audio Recorder\",\n",
    "    description=\"Record your voice and save the file to the ./data directory.\"\n",
    ")\n",
    "\n",
    "# Launch without blocking the notebook cell\n",
    "iface.launch(inbrowser=True, share=False, debug=True)\n",
    "\n"
   ]
  },
  {
   "cell_type": "code",
   "execution_count": null,
   "id": "d5685e26",
   "metadata": {},
   "outputs": [],
   "source": []
  }
 ],
 "metadata": {
  "kernelspec": {
   "display_name": "Python 3 (ipykernel)",
   "language": "python",
   "name": "python3"
  },
  "language_info": {
   "codemirror_mode": {
    "name": "ipython",
    "version": 3
   },
   "file_extension": ".py",
   "mimetype": "text/x-python",
   "name": "python",
   "nbconvert_exporter": "python",
   "pygments_lexer": "ipython3",
   "version": "3.12.1"
  }
 },
 "nbformat": 4,
 "nbformat_minor": 5
}
