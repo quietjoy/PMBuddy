{
 "cells": [
  {
   "cell_type": "code",
   "execution_count": null,
   "id": "d5025eb4",
   "metadata": {
    "vscode": {
     "languageId": "plaintext"
    }
   },
   "outputs": [],
   "source": [
    "# Quality Assurance Engineer\n",
    "\n",
    "# MVP\n",
    "# 1. Can describe bugs from DD\n",
    "# 2. Can understand how users use the application\n",
    "\n",
    "## RUM MCP\n",
    "# - Can download DD RUMs\n",
    "# - Can take screenshots when significant pixel change is detected\n",
    "# - Can provide a narrative description of a set of stills\n",
    "# - Can connect specific actions with API calls\n",
    "\n",
    "## GitHub MCP\n",
    "# - Can take a bug alert and create a github issue from it with the right information\n",
    "# - Can track a github issue lifecycle and resolve in DD\n",
    "\n",
    "## Knowledge Endpoint\n",
    "# - \"Hey QA, when a user does XX action - what API calls are made?"
   ]
  }
 ],
 "metadata": {
  "language_info": {
   "name": "python"
  }
 },
 "nbformat": 4,
 "nbformat_minor": 5
}
