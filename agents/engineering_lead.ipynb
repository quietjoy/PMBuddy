{
 "cells": [
  {
   "cell_type": "code",
   "execution_count": null,
   "id": "ad402c17",
   "metadata": {
    "vscode": {
     "languageId": "plaintext"
    }
   },
   "outputs": [],
   "source": [
    "# Engineering Lead\n",
    "\n",
    "# MVP\n",
    "# - Source graph an existing codebase\n",
    "# - Narrative descriptions of the code\n",
    "# - Ask questions about the codebase\n",
    "\n",
    "\n",
    "# Source graph\n",
    "# - https://github.com/nikic/PHP-Parser\n",
    "# - Store the AST in AWS netpune\n",
    "# - Write an MCP server for OpenCypher\n",
    "# - Query the code using an MCP server\n"
   ]
  }
 ],
 "metadata": {
  "language_info": {
   "name": "python"
  }
 },
 "nbformat": 4,
 "nbformat_minor": 5
}
