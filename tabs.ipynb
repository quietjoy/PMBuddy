{
  "cells": [
    {
      "cell_type": "code",
      "source": [
        "# Hello"
      ],
      "metadata": {
        "id": "FMBNLbWJvKRR"
      },
      "id": "FMBNLbWJvKRR",
      "execution_count": 1,
      "outputs": []
    },
    {
      "cell_type": "code",
      "source": [],
      "metadata": {
        "id": "PTuDW_bXvMlg"
      },
      "id": "PTuDW_bXvMlg",
      "execution_count": null,
      "outputs": []
    }
  ],
  "metadata": {
    "language_info": {
      "name": "python"
    },
    "colab": {
      "provenance": []
    },
    "kernelspec": {
      "name": "python3",
      "display_name": "Python 3"
    }
  },
  "nbformat": 4,
  "nbformat_minor": 5
}